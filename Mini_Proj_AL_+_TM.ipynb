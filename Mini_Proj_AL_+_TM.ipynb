{
  "cells": [
    {
      "cell_type": "markdown",
      "metadata": {
        "id": "view-in-github",
        "colab_type": "text"
      },
      "source": [
        "<a href=\"https://colab.research.google.com/github/averyleiss/NUWIT-website-hack-day-2022/blob/main/Mini_Proj_AL_%2B_TM.ipynb\" target=\"_parent\"><img src=\"https://colab.research.google.com/assets/colab-badge.svg\" alt=\"Open In Colab\"/></a>"
      ]
    },
    {
      "cell_type": "markdown",
      "metadata": {
        "id": "kQU-xLxWkK44"
      },
      "source": [
        "# Mini Project 2 (22 points total)\n",
        "\n",
        "Complete the Jupyter Notebook below with your group of two to four students.  You need only submit one Jupyter Notebook to [gradescope](https://www.gradescope.com/courses/347537/assignments/2012798/) for your whole group (be sure to add all group members).  \n",
        "\n",
        "While you may submit your groups work to gradescope anytime until **April 26 @ 11:59PM** my expectation is that most of the work can be completed in class today.\n",
        "\n",
        "________________\n"
      ]
    },
    {
      "cell_type": "markdown",
      "metadata": {
        "id": "jrLUqgCUkK47"
      },
      "source": [
        "In this Mini Project, you'll write two homework problems of your choosing.  \n",
        "\n",
        "# Can future courses re-use these problems? (please?)\n",
        "We'd love to be able to use these problems in a future semester.  If you'd allow us, please save this jupyter notebook and, in addition to submitting on gradescope, upload [here](https://www.dropbox.com/request/wdM7nfvpxGUvKXdmUqgu).  (This is entirely optional)\n",
        "\n",
        "We're happy to cite your team, our source for these problems.  If you'd like to be acknowledged, please include your email addresses in the cell below.  You're welcome to leave the cell below blank if you prefer to not have your emails associated with your problem.\n",
        "\n",
        "Know that we'll very likely edit a problem before sharing with future students."
      ]
    },
    {
      "cell_type": "code",
      "execution_count": null,
      "metadata": {
        "id": "dzIoB-dnkK48"
      },
      "outputs": [],
      "source": [
        "# emails to be included"
      ]
    },
    {
      "cell_type": "markdown",
      "metadata": {
        "id": "5UZnqclTkK49"
      },
      "source": [
        "# Data Sources\n",
        "\n",
        "- [google dataset search](https://datasetsearch.research.google.com/)\n",
        "- [kaggle](https://kaggle.com/)\n",
        "- [Global Health Observatory](https://apps.who.int/gho/data/node.home)\n",
        "- [UCI Machine Learning Repo](https://archive.ics.uci.edu/ml/index.php)\n",
        "- [data.gov](https://www.data.gov/)\n",
        "- [FiveThirtyEight](https://data.fivethirtyeight.com/)\n"
      ]
    },
    {
      "cell_type": "markdown",
      "metadata": {
        "id": "8_g73lzZkK49"
      },
      "source": [
        "# Part 1: Hypothesis Test / Cov&Corr / theory problem\n",
        "\n",
        "Choose any application of interest and write a multi-part homework problem which practices it.  The best problems:\n",
        "- have clean connections between the \"application story\" and the mathematics\n",
        "- are fun and interesting to think about\n",
        "\n",
        "Below we list some popular topics for homework problems:\n",
        "\n",
        "- **hypothesis tests:**\n",
        "    - t-test\n",
        "        - is it 1 or 2 sided?\n",
        "    - chi square test\n",
        "        - what is the target distribution you're comparing to?\n",
        "            - some known discrete distribution\n",
        "            - binomial\n",
        "            - poisson\n",
        "            - (whatever the target distribution you're comparing to, be sure its reasonable)\n",
        "- hypothesis test considerations:\n",
        "    - can you source real data for this data or must you make up numbers?\n",
        "    - be sure the problem can be done with pencil / paper\n",
        "        - limit sample sizes to what can be computed by hand\n",
        "\n",
        "- **covariance / correlation**\n",
        "    - identify some interesting question which can be answered from observing correlation / covariance\n",
        "    - you must source real data for this\n",
        "    - once you have a csv of real data,you can get the correlation / covariance matrix via:\n",
        "    \n",
        "```python\n",
        "import pandas as pd\n",
        "\n",
        "df = pd.read_csv('your_csv_file_here.csv')\n",
        "\n",
        "# covariance\n",
        "df.cov()\n",
        "\n",
        "# correlation matrix\n",
        "df.corr()\n",
        "```\n",
        "\n",
        "- **theory / application problem**\n",
        "    - there's a few interesting ideas you could ask a question about in some application\n",
        "        - law of large numbers\n",
        "        - central limit theorem\n",
        "        \n",
        "Choose one of the three bolded problem topics above and write a homework problem below:\n",
        "- give a clean description which is easily understood by all students\n",
        "- scaffold your questions from easy to hard\n",
        "    - if a question, as posed, is too difficult you might consider leading student by breaking it into two\n",
        "- write a solution for each part, which in addition to being correct, is clear enough to allow students to learn why its correct while reading it\n",
        "\n",
        "### Part 1 (rubric):\n",
        "- 3 problem is original / interesting\n",
        "- 3 problem is appropriately expansive / difficult enough for CS2810 students\n",
        "    - you can pose something as \"extra credit\" if its a stretch, but be sure its accesible extra credit\n",
        "- 3 problem is written clearly and succinctly\n",
        "- 3 solution is correct\n",
        "- 3 solution is clear"
      ]
    },
    {
      "cell_type": "code",
      "source": [
        "\n",
        "\n",
        "import pandas as pd\n",
        "df = pd.read_csv('datamodels.csv')\n",
        "\n",
        "# covariance\n",
        "\n",
        "df.cov()\n",
        "# correlation matrix\n"
      ],
      "metadata": {
        "id": "h2DWiNP1ph-X",
        "colab": {
          "base_uri": "https://localhost:8080/",
          "height": 237
        },
        "outputId": "048ee42b-fd55-4629-c81d-5bb6a6156d69"
      },
      "execution_count": null,
      "outputs": [
        {
          "output_type": "execute_result",
          "data": {
            "text/plain": [
              "            2000        2001        2004       2005        2006      2007\n",
              "2000  110779.245  115627.455  126406.485  143987.13  151683.075  162391.5\n",
              "2001  115627.455  120687.845  131938.615  150288.67  158321.425  169498.5\n",
              "2004  126406.485  131938.615  144238.205  164298.89  173080.475  185299.5\n",
              "2005  143987.130  150288.670  164298.890  187149.62  197152.550  211071.0\n",
              "2006  151683.075  158321.425  173080.475  197152.55  207690.125  222352.5\n",
              "2007  162391.500  169498.500  185299.500  211071.00  222352.500  238050.0"
            ],
            "text/html": [
              "\n",
              "  <div id=\"df-c93a6ede-ff10-4f93-a3fe-6c6bae31a196\">\n",
              "    <div class=\"colab-df-container\">\n",
              "      <div>\n",
              "<style scoped>\n",
              "    .dataframe tbody tr th:only-of-type {\n",
              "        vertical-align: middle;\n",
              "    }\n",
              "\n",
              "    .dataframe tbody tr th {\n",
              "        vertical-align: top;\n",
              "    }\n",
              "\n",
              "    .dataframe thead th {\n",
              "        text-align: right;\n",
              "    }\n",
              "</style>\n",
              "<table border=\"1\" class=\"dataframe\">\n",
              "  <thead>\n",
              "    <tr style=\"text-align: right;\">\n",
              "      <th></th>\n",
              "      <th>2000</th>\n",
              "      <th>2001</th>\n",
              "      <th>2004</th>\n",
              "      <th>2005</th>\n",
              "      <th>2006</th>\n",
              "      <th>2007</th>\n",
              "    </tr>\n",
              "  </thead>\n",
              "  <tbody>\n",
              "    <tr>\n",
              "      <th>2000</th>\n",
              "      <td>110779.245</td>\n",
              "      <td>115627.455</td>\n",
              "      <td>126406.485</td>\n",
              "      <td>143987.13</td>\n",
              "      <td>151683.075</td>\n",
              "      <td>162391.5</td>\n",
              "    </tr>\n",
              "    <tr>\n",
              "      <th>2001</th>\n",
              "      <td>115627.455</td>\n",
              "      <td>120687.845</td>\n",
              "      <td>131938.615</td>\n",
              "      <td>150288.67</td>\n",
              "      <td>158321.425</td>\n",
              "      <td>169498.5</td>\n",
              "    </tr>\n",
              "    <tr>\n",
              "      <th>2004</th>\n",
              "      <td>126406.485</td>\n",
              "      <td>131938.615</td>\n",
              "      <td>144238.205</td>\n",
              "      <td>164298.89</td>\n",
              "      <td>173080.475</td>\n",
              "      <td>185299.5</td>\n",
              "    </tr>\n",
              "    <tr>\n",
              "      <th>2005</th>\n",
              "      <td>143987.130</td>\n",
              "      <td>150288.670</td>\n",
              "      <td>164298.890</td>\n",
              "      <td>187149.62</td>\n",
              "      <td>197152.550</td>\n",
              "      <td>211071.0</td>\n",
              "    </tr>\n",
              "    <tr>\n",
              "      <th>2006</th>\n",
              "      <td>151683.075</td>\n",
              "      <td>158321.425</td>\n",
              "      <td>173080.475</td>\n",
              "      <td>197152.55</td>\n",
              "      <td>207690.125</td>\n",
              "      <td>222352.5</td>\n",
              "    </tr>\n",
              "    <tr>\n",
              "      <th>2007</th>\n",
              "      <td>162391.500</td>\n",
              "      <td>169498.500</td>\n",
              "      <td>185299.500</td>\n",
              "      <td>211071.00</td>\n",
              "      <td>222352.500</td>\n",
              "      <td>238050.0</td>\n",
              "    </tr>\n",
              "  </tbody>\n",
              "</table>\n",
              "</div>\n",
              "      <button class=\"colab-df-convert\" onclick=\"convertToInteractive('df-c93a6ede-ff10-4f93-a3fe-6c6bae31a196')\"\n",
              "              title=\"Convert this dataframe to an interactive table.\"\n",
              "              style=\"display:none;\">\n",
              "        \n",
              "  <svg xmlns=\"http://www.w3.org/2000/svg\" height=\"24px\"viewBox=\"0 0 24 24\"\n",
              "       width=\"24px\">\n",
              "    <path d=\"M0 0h24v24H0V0z\" fill=\"none\"/>\n",
              "    <path d=\"M18.56 5.44l.94 2.06.94-2.06 2.06-.94-2.06-.94-.94-2.06-.94 2.06-2.06.94zm-11 1L8.5 8.5l.94-2.06 2.06-.94-2.06-.94L8.5 2.5l-.94 2.06-2.06.94zm10 10l.94 2.06.94-2.06 2.06-.94-2.06-.94-.94-2.06-.94 2.06-2.06.94z\"/><path d=\"M17.41 7.96l-1.37-1.37c-.4-.4-.92-.59-1.43-.59-.52 0-1.04.2-1.43.59L10.3 9.45l-7.72 7.72c-.78.78-.78 2.05 0 2.83L4 21.41c.39.39.9.59 1.41.59.51 0 1.02-.2 1.41-.59l7.78-7.78 2.81-2.81c.8-.78.8-2.07 0-2.86zM5.41 20L4 18.59l7.72-7.72 1.47 1.35L5.41 20z\"/>\n",
              "  </svg>\n",
              "      </button>\n",
              "      \n",
              "  <style>\n",
              "    .colab-df-container {\n",
              "      display:flex;\n",
              "      flex-wrap:wrap;\n",
              "      gap: 12px;\n",
              "    }\n",
              "\n",
              "    .colab-df-convert {\n",
              "      background-color: #E8F0FE;\n",
              "      border: none;\n",
              "      border-radius: 50%;\n",
              "      cursor: pointer;\n",
              "      display: none;\n",
              "      fill: #1967D2;\n",
              "      height: 32px;\n",
              "      padding: 0 0 0 0;\n",
              "      width: 32px;\n",
              "    }\n",
              "\n",
              "    .colab-df-convert:hover {\n",
              "      background-color: #E2EBFA;\n",
              "      box-shadow: 0px 1px 2px rgba(60, 64, 67, 0.3), 0px 1px 3px 1px rgba(60, 64, 67, 0.15);\n",
              "      fill: #174EA6;\n",
              "    }\n",
              "\n",
              "    [theme=dark] .colab-df-convert {\n",
              "      background-color: #3B4455;\n",
              "      fill: #D2E3FC;\n",
              "    }\n",
              "\n",
              "    [theme=dark] .colab-df-convert:hover {\n",
              "      background-color: #434B5C;\n",
              "      box-shadow: 0px 1px 3px 1px rgba(0, 0, 0, 0.15);\n",
              "      filter: drop-shadow(0px 1px 2px rgba(0, 0, 0, 0.3));\n",
              "      fill: #FFFFFF;\n",
              "    }\n",
              "  </style>\n",
              "\n",
              "      <script>\n",
              "        const buttonEl =\n",
              "          document.querySelector('#df-c93a6ede-ff10-4f93-a3fe-6c6bae31a196 button.colab-df-convert');\n",
              "        buttonEl.style.display =\n",
              "          google.colab.kernel.accessAllowed ? 'block' : 'none';\n",
              "\n",
              "        async function convertToInteractive(key) {\n",
              "          const element = document.querySelector('#df-c93a6ede-ff10-4f93-a3fe-6c6bae31a196');\n",
              "          const dataTable =\n",
              "            await google.colab.kernel.invokeFunction('convertToInteractive',\n",
              "                                                     [key], {});\n",
              "          if (!dataTable) return;\n",
              "\n",
              "          const docLinkHtml = 'Like what you see? Visit the ' +\n",
              "            '<a target=\"_blank\" href=https://colab.research.google.com/notebooks/data_table.ipynb>data table notebook</a>'\n",
              "            + ' to learn more about interactive tables.';\n",
              "          element.innerHTML = '';\n",
              "          dataTable['output_type'] = 'display_data';\n",
              "          await google.colab.output.renderOutput(dataTable, element);\n",
              "          const docLink = document.createElement('div');\n",
              "          docLink.innerHTML = docLinkHtml;\n",
              "          element.appendChild(docLink);\n",
              "        }\n",
              "      </script>\n",
              "    </div>\n",
              "  </div>\n",
              "  "
            ]
          },
          "metadata": {},
          "execution_count": 14
        }
      ]
    },
    {
      "cell_type": "markdown",
      "source": [
        "The table below contains two variables, X and Y\n",
        "\n",
        "X = per capita comsumption of mozzerela cheese.                  \n",
        "Y = civil engineering doctorates awarded per year\n",
        "\n",
        "And each column represents a year these variables were measured.\n",
        "\n",
        "\n",
        "| YEAR | 2000 | 2001 | 2004 | 2005 | 2006 | 2007 |\n",
        "|------|------|------|------|------|------|------|\n",
        "| X    | 9.3  | 9.7  | 9.9  | 10.2 | 10.5 | 11   |\n",
        "| Y    | 480  | 501  | 547  | 622  | 655  | 701  |\n",
        "\n",
        "Problem 1 : Compute the sample covarience of X and Y\n",
        "\n",
        "\n",
        "\n",
        "\n",
        "Solution:\n"
      ],
      "metadata": {
        "id": "jMW4BYeqocfp"
      }
    },
    {
      "cell_type": "code",
      "source": [
        "df = df.transpose()"
      ],
      "metadata": {
        "id": "I3F6E5U5JULf"
      },
      "execution_count": null,
      "outputs": []
    },
    {
      "cell_type": "code",
      "source": [
        "df.iloc[1:, :].astype(float).cov()"
      ],
      "metadata": {
        "colab": {
          "base_uri": "https://localhost:8080/",
          "height": 112
        },
        "id": "NsU201acRxD6",
        "outputId": "ed61058c-ae30-4175-e46e-f7d7509d1a7f"
      },
      "execution_count": null,
      "outputs": [
        {
          "output_type": "execute_result",
          "data": {
            "text/plain": [
              "        0            1\n",
              "0   0.364    52.260000\n",
              "1  52.260  7849.466667"
            ],
            "text/html": [
              "\n",
              "  <div id=\"df-3ac78d84-7304-4f43-b0fd-3d730da5ed55\">\n",
              "    <div class=\"colab-df-container\">\n",
              "      <div>\n",
              "<style scoped>\n",
              "    .dataframe tbody tr th:only-of-type {\n",
              "        vertical-align: middle;\n",
              "    }\n",
              "\n",
              "    .dataframe tbody tr th {\n",
              "        vertical-align: top;\n",
              "    }\n",
              "\n",
              "    .dataframe thead th {\n",
              "        text-align: right;\n",
              "    }\n",
              "</style>\n",
              "<table border=\"1\" class=\"dataframe\">\n",
              "  <thead>\n",
              "    <tr style=\"text-align: right;\">\n",
              "      <th></th>\n",
              "      <th>0</th>\n",
              "      <th>1</th>\n",
              "    </tr>\n",
              "  </thead>\n",
              "  <tbody>\n",
              "    <tr>\n",
              "      <th>0</th>\n",
              "      <td>0.364</td>\n",
              "      <td>52.260000</td>\n",
              "    </tr>\n",
              "    <tr>\n",
              "      <th>1</th>\n",
              "      <td>52.260</td>\n",
              "      <td>7849.466667</td>\n",
              "    </tr>\n",
              "  </tbody>\n",
              "</table>\n",
              "</div>\n",
              "      <button class=\"colab-df-convert\" onclick=\"convertToInteractive('df-3ac78d84-7304-4f43-b0fd-3d730da5ed55')\"\n",
              "              title=\"Convert this dataframe to an interactive table.\"\n",
              "              style=\"display:none;\">\n",
              "        \n",
              "  <svg xmlns=\"http://www.w3.org/2000/svg\" height=\"24px\"viewBox=\"0 0 24 24\"\n",
              "       width=\"24px\">\n",
              "    <path d=\"M0 0h24v24H0V0z\" fill=\"none\"/>\n",
              "    <path d=\"M18.56 5.44l.94 2.06.94-2.06 2.06-.94-2.06-.94-.94-2.06-.94 2.06-2.06.94zm-11 1L8.5 8.5l.94-2.06 2.06-.94-2.06-.94L8.5 2.5l-.94 2.06-2.06.94zm10 10l.94 2.06.94-2.06 2.06-.94-2.06-.94-.94-2.06-.94 2.06-2.06.94z\"/><path d=\"M17.41 7.96l-1.37-1.37c-.4-.4-.92-.59-1.43-.59-.52 0-1.04.2-1.43.59L10.3 9.45l-7.72 7.72c-.78.78-.78 2.05 0 2.83L4 21.41c.39.39.9.59 1.41.59.51 0 1.02-.2 1.41-.59l7.78-7.78 2.81-2.81c.8-.78.8-2.07 0-2.86zM5.41 20L4 18.59l7.72-7.72 1.47 1.35L5.41 20z\"/>\n",
              "  </svg>\n",
              "      </button>\n",
              "      \n",
              "  <style>\n",
              "    .colab-df-container {\n",
              "      display:flex;\n",
              "      flex-wrap:wrap;\n",
              "      gap: 12px;\n",
              "    }\n",
              "\n",
              "    .colab-df-convert {\n",
              "      background-color: #E8F0FE;\n",
              "      border: none;\n",
              "      border-radius: 50%;\n",
              "      cursor: pointer;\n",
              "      display: none;\n",
              "      fill: #1967D2;\n",
              "      height: 32px;\n",
              "      padding: 0 0 0 0;\n",
              "      width: 32px;\n",
              "    }\n",
              "\n",
              "    .colab-df-convert:hover {\n",
              "      background-color: #E2EBFA;\n",
              "      box-shadow: 0px 1px 2px rgba(60, 64, 67, 0.3), 0px 1px 3px 1px rgba(60, 64, 67, 0.15);\n",
              "      fill: #174EA6;\n",
              "    }\n",
              "\n",
              "    [theme=dark] .colab-df-convert {\n",
              "      background-color: #3B4455;\n",
              "      fill: #D2E3FC;\n",
              "    }\n",
              "\n",
              "    [theme=dark] .colab-df-convert:hover {\n",
              "      background-color: #434B5C;\n",
              "      box-shadow: 0px 1px 3px 1px rgba(0, 0, 0, 0.15);\n",
              "      filter: drop-shadow(0px 1px 2px rgba(0, 0, 0, 0.3));\n",
              "      fill: #FFFFFF;\n",
              "    }\n",
              "  </style>\n",
              "\n",
              "      <script>\n",
              "        const buttonEl =\n",
              "          document.querySelector('#df-3ac78d84-7304-4f43-b0fd-3d730da5ed55 button.colab-df-convert');\n",
              "        buttonEl.style.display =\n",
              "          google.colab.kernel.accessAllowed ? 'block' : 'none';\n",
              "\n",
              "        async function convertToInteractive(key) {\n",
              "          const element = document.querySelector('#df-3ac78d84-7304-4f43-b0fd-3d730da5ed55');\n",
              "          const dataTable =\n",
              "            await google.colab.kernel.invokeFunction('convertToInteractive',\n",
              "                                                     [key], {});\n",
              "          if (!dataTable) return;\n",
              "\n",
              "          const docLinkHtml = 'Like what you see? Visit the ' +\n",
              "            '<a target=\"_blank\" href=https://colab.research.google.com/notebooks/data_table.ipynb>data table notebook</a>'\n",
              "            + ' to learn more about interactive tables.';\n",
              "          element.innerHTML = '';\n",
              "          dataTable['output_type'] = 'display_data';\n",
              "          await google.colab.output.renderOutput(dataTable, element);\n",
              "          const docLink = document.createElement('div');\n",
              "          docLink.innerHTML = docLinkHtml;\n",
              "          element.appendChild(docLink);\n",
              "        }\n",
              "      </script>\n",
              "    </div>\n",
              "  </div>\n",
              "  "
            ]
          },
          "metadata": {},
          "execution_count": 19
        }
      ]
    },
    {
      "cell_type": "markdown",
      "source": [
        "Answer is : 52.26 "
      ],
      "metadata": {
        "id": "uxUdLS4vlZZ5"
      }
    },
    {
      "cell_type": "markdown",
      "source": [
        "Problem 2: Calculate the sample correlation of X and Y. Does this number make sense?\n",
        "\n",
        "Solution: \n",
        "Yes, it makes sense based on the data that the correlation is greater than 0 and close to 1. As X increases, Y also increases."
      ],
      "metadata": {
        "id": "LVUO5DDKsaFG"
      }
    },
    {
      "cell_type": "code",
      "source": [
        "df.iloc[1:, :].astype(float).corr()"
      ],
      "metadata": {
        "colab": {
          "base_uri": "https://localhost:8080/",
          "height": 112
        },
        "id": "bUi-Mq-vJfgC",
        "outputId": "9a6e275d-124a-492f-93d2-6fd487a582e7"
      },
      "execution_count": null,
      "outputs": [
        {
          "output_type": "execute_result",
          "data": {
            "text/plain": [
              "          0         1\n",
              "0  1.000000  0.977684\n",
              "1  0.977684  1.000000"
            ],
            "text/html": [
              "\n",
              "  <div id=\"df-12b189ec-689a-486d-a497-a5400a33eab4\">\n",
              "    <div class=\"colab-df-container\">\n",
              "      <div>\n",
              "<style scoped>\n",
              "    .dataframe tbody tr th:only-of-type {\n",
              "        vertical-align: middle;\n",
              "    }\n",
              "\n",
              "    .dataframe tbody tr th {\n",
              "        vertical-align: top;\n",
              "    }\n",
              "\n",
              "    .dataframe thead th {\n",
              "        text-align: right;\n",
              "    }\n",
              "</style>\n",
              "<table border=\"1\" class=\"dataframe\">\n",
              "  <thead>\n",
              "    <tr style=\"text-align: right;\">\n",
              "      <th></th>\n",
              "      <th>0</th>\n",
              "      <th>1</th>\n",
              "    </tr>\n",
              "  </thead>\n",
              "  <tbody>\n",
              "    <tr>\n",
              "      <th>0</th>\n",
              "      <td>1.000000</td>\n",
              "      <td>0.977684</td>\n",
              "    </tr>\n",
              "    <tr>\n",
              "      <th>1</th>\n",
              "      <td>0.977684</td>\n",
              "      <td>1.000000</td>\n",
              "    </tr>\n",
              "  </tbody>\n",
              "</table>\n",
              "</div>\n",
              "      <button class=\"colab-df-convert\" onclick=\"convertToInteractive('df-12b189ec-689a-486d-a497-a5400a33eab4')\"\n",
              "              title=\"Convert this dataframe to an interactive table.\"\n",
              "              style=\"display:none;\">\n",
              "        \n",
              "  <svg xmlns=\"http://www.w3.org/2000/svg\" height=\"24px\"viewBox=\"0 0 24 24\"\n",
              "       width=\"24px\">\n",
              "    <path d=\"M0 0h24v24H0V0z\" fill=\"none\"/>\n",
              "    <path d=\"M18.56 5.44l.94 2.06.94-2.06 2.06-.94-2.06-.94-.94-2.06-.94 2.06-2.06.94zm-11 1L8.5 8.5l.94-2.06 2.06-.94-2.06-.94L8.5 2.5l-.94 2.06-2.06.94zm10 10l.94 2.06.94-2.06 2.06-.94-2.06-.94-.94-2.06-.94 2.06-2.06.94z\"/><path d=\"M17.41 7.96l-1.37-1.37c-.4-.4-.92-.59-1.43-.59-.52 0-1.04.2-1.43.59L10.3 9.45l-7.72 7.72c-.78.78-.78 2.05 0 2.83L4 21.41c.39.39.9.59 1.41.59.51 0 1.02-.2 1.41-.59l7.78-7.78 2.81-2.81c.8-.78.8-2.07 0-2.86zM5.41 20L4 18.59l7.72-7.72 1.47 1.35L5.41 20z\"/>\n",
              "  </svg>\n",
              "      </button>\n",
              "      \n",
              "  <style>\n",
              "    .colab-df-container {\n",
              "      display:flex;\n",
              "      flex-wrap:wrap;\n",
              "      gap: 12px;\n",
              "    }\n",
              "\n",
              "    .colab-df-convert {\n",
              "      background-color: #E8F0FE;\n",
              "      border: none;\n",
              "      border-radius: 50%;\n",
              "      cursor: pointer;\n",
              "      display: none;\n",
              "      fill: #1967D2;\n",
              "      height: 32px;\n",
              "      padding: 0 0 0 0;\n",
              "      width: 32px;\n",
              "    }\n",
              "\n",
              "    .colab-df-convert:hover {\n",
              "      background-color: #E2EBFA;\n",
              "      box-shadow: 0px 1px 2px rgba(60, 64, 67, 0.3), 0px 1px 3px 1px rgba(60, 64, 67, 0.15);\n",
              "      fill: #174EA6;\n",
              "    }\n",
              "\n",
              "    [theme=dark] .colab-df-convert {\n",
              "      background-color: #3B4455;\n",
              "      fill: #D2E3FC;\n",
              "    }\n",
              "\n",
              "    [theme=dark] .colab-df-convert:hover {\n",
              "      background-color: #434B5C;\n",
              "      box-shadow: 0px 1px 3px 1px rgba(0, 0, 0, 0.15);\n",
              "      filter: drop-shadow(0px 1px 2px rgba(0, 0, 0, 0.3));\n",
              "      fill: #FFFFFF;\n",
              "    }\n",
              "  </style>\n",
              "\n",
              "      <script>\n",
              "        const buttonEl =\n",
              "          document.querySelector('#df-12b189ec-689a-486d-a497-a5400a33eab4 button.colab-df-convert');\n",
              "        buttonEl.style.display =\n",
              "          google.colab.kernel.accessAllowed ? 'block' : 'none';\n",
              "\n",
              "        async function convertToInteractive(key) {\n",
              "          const element = document.querySelector('#df-12b189ec-689a-486d-a497-a5400a33eab4');\n",
              "          const dataTable =\n",
              "            await google.colab.kernel.invokeFunction('convertToInteractive',\n",
              "                                                     [key], {});\n",
              "          if (!dataTable) return;\n",
              "\n",
              "          const docLinkHtml = 'Like what you see? Visit the ' +\n",
              "            '<a target=\"_blank\" href=https://colab.research.google.com/notebooks/data_table.ipynb>data table notebook</a>'\n",
              "            + ' to learn more about interactive tables.';\n",
              "          element.innerHTML = '';\n",
              "          dataTable['output_type'] = 'display_data';\n",
              "          await google.colab.output.renderOutput(dataTable, element);\n",
              "          const docLink = document.createElement('div');\n",
              "          docLink.innerHTML = docLinkHtml;\n",
              "          element.appendChild(docLink);\n",
              "        }\n",
              "      </script>\n",
              "    </div>\n",
              "  </div>\n",
              "  "
            ]
          },
          "metadata": {},
          "execution_count": 20
        }
      ]
    },
    {
      "cell_type": "markdown",
      "source": [
        "Answer is: .978 "
      ],
      "metadata": {
        "id": "MKlrK7g3oGVi"
      }
    },
    {
      "cell_type": "markdown",
      "source": [
        "Problem 3: Does the increase of mozzerella cheese consumption cause more people to obtain civil engineering doctorates?\n",
        "\n",
        "Solution:\n",
        "No, not necesarily. Correlation does not imply causation. Just because X and Y are correlated, doesn't mean one causes the other. "
      ],
      "metadata": {
        "id": "LW9c5dQKshYs"
      }
    },
    {
      "cell_type": "markdown",
      "metadata": {
        "id": "Bn5AuKjwkK4-"
      },
      "source": [
        "# Part 2: Build a Bayes Network"
      ]
    },
    {
      "cell_type": "markdown",
      "metadata": {
        "id": "dziA0oQvkK4_"
      },
      "source": [
        "In this part, build a homework problem on a Bayes Net on a topic of your choosing.\n",
        "\n",
        "- Bayes network on four nodes\n",
        "    - too many nodes and the joint distribution table has too many rows ...\n",
        "- ask the student 3 or 4 questions which build towards some intuition\n",
        "    - demonstrate / explain a conditional independence relationship\n",
        "    - demonstrate some intuition encapsulated in the network:\n",
        "        - e.g. in HW9 problem 4: \"defending a basketball shot decreases the expected points earned\"\n",
        "\n",
        "\n",
        "Your submission should include 4 items:\n",
        "- the text of the problem\n",
        "- the solution to each part\n",
        "- the image of the bayes net (appendix 1)\n",
        "- the joint distribution table (appendix 2)"
      ]
    },
    {
      "cell_type": "markdown",
      "metadata": {
        "id": "zB7RVpJ3kK4_"
      },
      "source": [
        "# Part 2 (rubric):\n",
        "- 3 problem is original / interesting\n",
        "- 3 problem is appropriately expansive / difficult enough for CS2810 students\n",
        "    - you can pose something as \"extra credit\" if its a stretch, but be sure its accesible extra credit\n",
        "- 3 problem is written clearly and succinctly\n",
        "- 3 solution is correct\n",
        "- 3 solution is clear\n",
        "- 3 image of bayes net neat, fully specified and included in jupyter\n",
        "- 3 markdown table of joint distribution included in jupyter and correct"
      ]
    },
    {
      "cell_type": "markdown",
      "metadata": {
        "id": "kSiwdP9MkK5A"
      },
      "source": [
        "### Appendix 1: Uploading an image into a jupyter notebook\n",
        "To create the image of your bayes net \n",
        "- be sure to include all probabilities needed to fully specify it\n",
        "- generate an image:\n",
        "    - draw one and take a picture with your phone\n",
        "        - cam scanner please\n",
        "    - build it on the computer\n",
        "    - draw on a tablet\n",
        "- upload into the notebook by:\n",
        "    - uploading your image to [https://imgbb.com/](https://imgbb.com/)\n",
        "    - double clicking this jupyter cell\n",
        "    - replacing the hyperlink below with a hyperlink to your image\n",
        "        - (should have similar format as the example given)\n",
        "        - try right clicking \"copy image address\" or similar\n",
        "\n",
        "<a href=\"https://ibb.co/z8jfLVc\"><img src=\"https://i.ibb.co/hXh8nF5/Mini-Proj-Drawing.jpg\" alt=\"Mini-Proj-Drawing\" border=\"0\"></a> "
      ]
    },
    {
      "cell_type": "markdown",
      "source": [
        "| C: Crying | P(C) | O: Cutting Onions | P(O) | B: Bad Day | P(B) | A: Angry | P(A) | S: Sad | P(S) | P(S,A) | P(S, A, B) | P(S, A, B, O) | P(S,A,B,O,C) |\n",
        "|-----------|------|-------------------|------|------------|------|----------|------|--------|------|--------|------------|---------------|--------------|\n",
        "| c0        |  0.9 | o0                |  0.8 | b0         |  0.9 | a0       |  0.7 | s0     |  0.6 |   0.42 |      0.378 |        0.3024 |      0.27216 |\n",
        "| c0        |  0.9 | o0                |  0.8 | b0         |  0.2 | a0       |  0.7 | s1     |  0.4 |    2.8 |      0.056 |        0.0448 |      0.04032 |\n",
        "| c0        |  0.9 | o0                |  0.8 | b0         |  0.4 | a1       |  0.3 | s0     |  0.6 |   0.18 |      0.072 |        0.0576 |      0.05184 |\n",
        "| c0        |  0.9 | o0                |  0.8 | b0         |    0 | a1       |  0.3 | s1     |  0.4 |   0.12 |          0 |             0 |            0 |\n",
        "| c0        |  0.3 | o0                |  0.8 | b1         |  0.1 | a0       |  0.7 | s0     |  0.6 |   0.42 |      0.042 |        0.0336 |      0.01008 |\n",
        "| c0        |  0.3 | o0                |  0.8 | b1         |  0.8 | a0       |  0.7 | s1     |  0.4 |    2.8 |      0.224 |        0.1792 |      0.05376 |\n",
        "| c0        |  0.3 | o0                |  0.8 | b1         |  0.6 | a1       |  0.3 | s0     |  0.6 |   0.18 |      0.108 |        0.0864 |      0.02592 |\n",
        "| c0        |  0.3 | o0                |  0.8 | b1         |    1 | a1       |  0.3 | s1     |  0.4 |   0.12 |       0.12 |         0.096 |       0.0288 |\n",
        "| c0        |  0.5 | o1                |  0.2 | b0         |  0.9 | a0       |  0.7 | s0     |  0.6 |   0.42 |      0.378 |        0.0756 |       0.0378 |\n",
        "| c0        |  0.5 | o1                |  0.2 | b0         |  0.2 | a0       |  0.7 | s1     |  0.4 |    2.8 |      0.056 |        0.0112 |       0.0056 |\n",
        "| c0        |  0.5 | o1                |  0.2 | b0         |  0.4 | a1       |  0.3 | s0     |  0.6 |   0.18 |      0.072 |        0.0144 |       0.0072 |\n",
        "| c0        |  0.5 | o1                |  0.2 | b0         |    0 | a1       |  0.3 | s1     |  0.4 |   0.12 |          0 |             0 |            0 |\n",
        "| c0        |  0.1 | o1                |  0.2 | b1         |  0.1 | a0       |  0.7 | s0     |  0.6 |   0.42 |      0.042 |        0.0084 |      0.00084 |\n",
        "| c0        |  0.1 | o1                |  0.2 | b1         |  0.8 | a0       |  0.7 | s1     |  0.4 |    2.8 |      0.224 |        0.0448 |      0.00448 |\n",
        "| c0        |  0.1 | o1                |  0.2 | b1         |  0.6 | a1       |  0.3 | s0     |  0.6 |   0.18 |      0.108 |        0.0216 |      0.00216 |\n",
        "| c1        |  0.1 | o1                |  0.2 | b1         |    1 | a1       |  0.3 | s1     |  0.4 |   0.12 |       0.12 |         0.024 |       0.0024 |\n",
        "| c1        |  0.1 | o0                |  0.8 | b0         |  0.9 | a0       |  0.7 | s0     |  0.6 |   0.42 |      0.378 |        0.3024 |      0.03024 |\n",
        "| c1        |  0.1 | o0                |  0.8 | b0         |  0.2 | a0       |  0.7 | s1     |  0.4 |    2.8 |      0.056 |        0.0448 |      0.00448 |\n",
        "| c1        |  0.1 | o0                |  0.8 | b0         |  0.4 | a1       |  0.3 | s0     |  0.6 |   0.18 |      0.072 |        0.0576 |      0.00576 |\n",
        "| c1        |  0.1 | o0                |  0.8 | b0         |    0 | a1       |  0.3 | s1     |  0.4 |   0.12 |          0 |             0 |            0 |\n",
        "| c1        |  0.7 | o0                |  0.8 | b1         |  0.1 | a0       |  0.7 | s0     |  0.6 |   0.42 |      0.042 |        0.0336 |      0.02352 |\n",
        "| c1        |  0.7 | o0                |  0.8 | b1         |  0.8 | a0       |  0.7 | s1     |  0.4 |    2.8 |      0.224 |        0.1792 |      0.12544 |\n",
        "| c1        |  0.7 | o0                |  0.8 | b1         |  0.6 | a1       |  0.3 | s0     |  0.6 |   0.18 |      0.108 |        0.0864 |      0.06048 |\n",
        "| c1        |  0.7 | o0                |  0.8 | b1         |    1 | a1       |  0.3 | s1     |  0.4 |   0.12 |       0.12 |         0.096 |       0.0672 |\n",
        "| c1        |  0.5 | o1                |  0.2 | b0         |  0.9 | a0       |  0.7 | s0     |  0.6 |   0.42 |      0.378 |        0.0756 |       0.0378 |\n",
        "| c1        |  0.5 | o1                |  0.2 | b0         |  0.2 | a0       |  0.7 | s1     |  0.4 |    2.8 |      0.056 |        0.0112 |       0.0056 |\n",
        "| c1        |  0.5 | o1                |  0.2 | b0         |  0.4 | a1       |  0.3 | s0     |  0.6 |   0.18 |      0.072 |        0.0144 |       0.0072 |\n",
        "| c1        |  0.5 | o1                |  0.2 | b0         |    0 | a1       |  0.3 | s1     |  0.4 |   0.12 |          0 |             0 |            0 |\n",
        "| c1        |  0.9 | o1                |  0.2 | b1         |  0.1 | a0       |  0.7 | s0     |  0.6 |   0.42 |      0.042 |        0.0084 |      0.00756 |\n",
        "| c1        |  0.9 | o1                |  0.2 | b1         |  0.8 | a0       |  0.7 | s1     |  0.4 |    2.8 |      0.224 |        0.0448 |      0.04032 |\n",
        "| c1        |  0.9 | o1                |  0.2 | b1         |  0.6 | a1       |  0.3 | s0     |  0.6 |   0.18 |      0.108 |        0.0216 |      0.01944 |\n",
        "| c1        |  0.9 | o1                |  0.2 | b1         |    1 | a1       |  0.3 | s1     |  0.4 |   0.12 |       0.12 |         0.024 |       0.0216 |"
      ],
      "metadata": {
        "id": "nYTfrdMCk8Wb"
      }
    },
    {
      "cell_type": "markdown",
      "source": [
        "1. Given that a student is angry, but not sad, what’s the probability that they’re having a bad day?\n",
        "\n",
        "- P(S1) = 0.4\n",
        "\n",
        "2. Given that a student is not sad, having a bad day, and cutting onions, what’s the probability that they’re crying?\n",
        "\n",
        "- P(B1 | S0A1) = 0.6\n",
        "\n",
        "3. What has more of an impact on a student crying? Cutting onions or having a bad day?\n",
        "\n",
        "- P(C1 | B1) > P(C1 | O1)\n",
        "- P(C1 | B1) = 0.8\n",
        "- P(C1 | O1) = 0.6\n",
        "\n",
        "4. What’s the probability a student is having a bad day?\n",
        "\n",
        "- P(B1) = P(B1 | S0A0) * (S0A0) + P(B1 | S0A1) * (S0A1) + P(B1 | S1A0) * (S1A0) + \n",
        "P(B1 | S1A1) * (S1A1) \n",
        "\n",
        "- P(B1) = 0.1 * (0.6*0.7) + 0.6 * (0.6*0.3) + 0.8 * (0.4*0.7) + 1 * (0.4*0.3) = 0.494"
      ],
      "metadata": {
        "id": "6qJa-mBfymV8"
      }
    },
    {
      "cell_type": "markdown",
      "metadata": {
        "id": "XUclWwA0kK5A"
      },
      "source": [
        "### Appendix 2: Making a table in a jupyter notebook\n",
        "\n",
        "- make table in your favorite spreadsheet application\n",
        "- copy / paste into [https://www.tablesgenerator.com/markdown_tables](https://www.tablesgenerator.com/markdown_tables)\n",
        "- copy / paste from markdown table generator into a markdown cell in jupyter"
      ]
    }
  ],
  "metadata": {
    "kernelspec": {
      "display_name": "Python 3 (ipykernel)",
      "language": "python",
      "name": "python3"
    },
    "language_info": {
      "codemirror_mode": {
        "name": "ipython",
        "version": 3
      },
      "file_extension": ".py",
      "mimetype": "text/x-python",
      "name": "python",
      "nbconvert_exporter": "python",
      "pygments_lexer": "ipython3",
      "version": "3.8.10"
    },
    "colab": {
      "name": "Mini Proj - AL + TM",
      "provenance": [],
      "collapsed_sections": [],
      "include_colab_link": true
    }
  },
  "nbformat": 4,
  "nbformat_minor": 0
}